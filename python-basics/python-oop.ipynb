{
 "cells": [
  {
   "cell_type": "markdown",
   "metadata": {},
   "source": [
    "## OOP\n",
    "\n",
    "[More magic methods in this link](https://www.python-course.eu/python3_magic_methods.php#Overview-of-Magic-Methods)"
   ]
  },
  {
   "cell_type": "code",
   "execution_count": 1,
   "metadata": {},
   "outputs": [
    {
     "data": {
      "text/plain": [
       "6"
      ]
     },
     "execution_count": 1,
     "metadata": {},
     "output_type": "execute_result"
    }
   ],
   "source": [
    "class TestClass(object):\n",
    "    \n",
    "#     Constructor\n",
    "    def __init__(self, x=1, y=2, z=3):\n",
    "        self.x = x\n",
    "        self.y = y\n",
    "        self.z = z\n",
    "        \n",
    "#     Normal Function\n",
    "    def sumAll(self):\n",
    "        return self.x + self.y + self.z\n",
    "    \n",
    "#     Magic Functions\n",
    "    def __add__(self, other): \n",
    "        return self.sumAll() + other.sumAll()\n",
    "    \n",
    "    def __str__(self):\n",
    "        return f\"{self.x}, {self.y}, {self.z}\"\n",
    "    \n",
    "    def __getitem__(self, item):\n",
    "        if item == 'x':\n",
    "            return self.x\n",
    "        elif item == 'y':\n",
    "            return self.y\n",
    "        elif item == 'z':\n",
    "            return self.z\n",
    "        else:\n",
    "            raise KeyError()\n",
    "    \n",
    "obj = TestClass()\n",
    "obj.sumAll()"
   ]
  },
  {
   "cell_type": "code",
   "execution_count": 2,
   "metadata": {},
   "outputs": [
    {
     "data": {
      "text/plain": [
       "3"
      ]
     },
     "execution_count": 2,
     "metadata": {},
     "output_type": "execute_result"
    }
   ],
   "source": [
    "obj1 = TestClass(0,0,0)\n",
    "obj2 = TestClass(1,1,1)\n",
    "obj1 + obj2"
   ]
  },
  {
   "cell_type": "code",
   "execution_count": 3,
   "metadata": {},
   "outputs": [
    {
     "data": {
      "text/plain": [
       "'1, 1, 1'"
      ]
     },
     "execution_count": 3,
     "metadata": {},
     "output_type": "execute_result"
    }
   ],
   "source": [
    "str(obj2)"
   ]
  },
  {
   "cell_type": "code",
   "execution_count": 4,
   "metadata": {},
   "outputs": [
    {
     "data": {
      "text/plain": [
       "1"
      ]
     },
     "execution_count": 4,
     "metadata": {},
     "output_type": "execute_result"
    }
   ],
   "source": [
    "obj2['x']"
   ]
  },
  {
   "cell_type": "code",
   "execution_count": 5,
   "metadata": {},
   "outputs": [
    {
     "data": {
      "text/plain": [
       "6"
      ]
     },
     "execution_count": 5,
     "metadata": {},
     "output_type": "execute_result"
    }
   ],
   "source": [
    "class subClass(TestClass):\n",
    "    def __init__(self, x, y, z, a, b, c):\n",
    "        super().__init__(x,y,z)\n",
    "        self.a = a\n",
    "        self.b = b\n",
    "        self.c = c\n",
    "        \n",
    "    def sumAll(self):\n",
    "        return super().sumAll() + self.a + self.b + self.c\n",
    "    \n",
    "obj3 = subClass(1,1,1,1,1,1)\n",
    "obj3.sumAll()\n",
    "    "
   ]
  }
 ],
 "metadata": {
  "kernelspec": {
   "display_name": "Python 3",
   "language": "python",
   "name": "python3"
  },
  "language_info": {
   "codemirror_mode": {
    "name": "ipython",
    "version": 3
   },
   "file_extension": ".py",
   "mimetype": "text/x-python",
   "name": "python",
   "nbconvert_exporter": "python",
   "pygments_lexer": "ipython3",
   "version": "3.8.2"
  }
 },
 "nbformat": 4,
 "nbformat_minor": 4
}
