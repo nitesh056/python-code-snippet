{
 "cells": [
  {
   "cell_type": "markdown",
   "metadata": {},
   "source": [
    "# BeautifulSoup\n",
    "\n",
    "Scraping 100 Most Popular TV Shows from imdb website\n",
    "\n"
   ]
  },
  {
   "cell_type": "code",
   "execution_count": 1,
   "metadata": {},
   "outputs": [],
   "source": [
    "import requests\n",
    "from bs4 import BeautifulSoup"
   ]
  },
  {
   "cell_type": "code",
   "execution_count": 2,
   "metadata": {},
   "outputs": [],
   "source": [
    "headers = {\"user-agent\": \"Mozilla/5.0 (Windows NT 10.0; Win64; x64) AppleWebKit/537.36 (KHTML, like Gecko) Chrome/84.0.4147.135 Safari/537.36\"}\n",
    "r = requests.get('https://www.imdb.com/chart/tvmeter/', headers=headers)"
   ]
  },
  {
   "cell_type": "code",
   "execution_count": 3,
   "metadata": {},
   "outputs": [],
   "source": [
    "soup = BeautifulSoup(r.text, 'html.parser')"
   ]
  },
  {
   "cell_type": "code",
   "execution_count": 4,
   "metadata": {},
   "outputs": [],
   "source": [
    "mv_list = soup.find(\"tbody\").findAll(\"tr\") # searching data by html tags"
   ]
  },
  {
   "cell_type": "code",
   "execution_count": 5,
   "metadata": {},
   "outputs": [
    {
     "data": {
      "text/plain": [
       "<tr>\n",
       "<td class=\"posterColumn\">\n",
       "<span data-value=\"1\" name=\"rk\"></span>\n",
       "<span data-value=\"8.2\" name=\"ir\"></span>\n",
       "<span data-value=\"1.45368E12\" name=\"us\"></span>\n",
       "<span data-value=\"207111\" name=\"nv\"></span>\n",
       "<span data-value=\"-2.8000000000000007\" name=\"ur\"></span>\n",
       "<a href=\"/title/tt4052886/?pf_rd_m=A2FGELUUNOQJNL&amp;pf_rd_p=332cb927-0342-42b3-815c-f9124e84021d&amp;pf_rd_r=X2YFAEG0DPRH1V29A8MH&amp;pf_rd_s=center-1&amp;pf_rd_t=15506&amp;pf_rd_i=tvmeter&amp;ref_=chttvm_tt_1\"> <img alt=\"Lucifer\" height=\"67\" src=\"https://m.media-amazon.com/images/M/MV5BNzY1YjIxOGMtOTAyZC00YTcyLWFhMzQtZTJkYTljYzU0MGRlXkEyXkFqcGdeQXVyMTAwMzM3NDI3._V1_UY67_CR0,0,45,67_AL_.jpg\" width=\"45\"/>\n",
       "</a> </td>\n",
       "<td class=\"titleColumn\">\n",
       "<a href=\"/title/tt4052886/?pf_rd_m=A2FGELUUNOQJNL&amp;pf_rd_p=332cb927-0342-42b3-815c-f9124e84021d&amp;pf_rd_r=X2YFAEG0DPRH1V29A8MH&amp;pf_rd_s=center-1&amp;pf_rd_t=15506&amp;pf_rd_i=tvmeter&amp;ref_=chttvm_tt_1\" title=\"Tom Ellis, Lauren German\">Lucifer</a>\n",
       "<span class=\"secondaryInfo\">(2016)</span>\n",
       "<div class=\"velocity\">1\n",
       "<span class=\"secondaryInfo\">(\n",
       "<span class=\"global-sprite titlemeter up\"></span>\n",
       "2)</span>\n",
       "</div>\n",
       "</td>\n",
       "<td class=\"ratingColumn imdbRating\">\n",
       "<strong title=\"8.2 based on 207,111 user ratings\">8.2</strong>\n",
       "</td>\n",
       "<td class=\"ratingColumn\">\n",
       "<div class=\"seen-widget seen-widget-tt4052886 pending\" data-titleid=\"tt4052886\">\n",
       "<div class=\"boundary\">\n",
       "<div class=\"popover\">\n",
       "<span class=\"delete\"> </span><ol><li>1<li>2<li>3<li>4<li>5<li>6<li>7<li>8<li>9<li>10</li></li></li></li></li></li></li></li></li></li></ol> </div>\n",
       "</div>\n",
       "<div class=\"inline\">\n",
       "<div class=\"pending\"></div>\n",
       "<div class=\"unseeable\">NOT YET RELEASED</div>\n",
       "<div class=\"unseen\"> </div>\n",
       "<div class=\"rating\"></div>\n",
       "<div class=\"seen\">Seen</div>\n",
       "</div>\n",
       "</div>\n",
       "</td>\n",
       "<td class=\"watchlistColumn\">\n",
       "<div class=\"wlb_ribbon\" data-recordmetrics=\"true\" data-tconst=\"tt4052886\"></div>\n",
       "</td>\n",
       "</tr>"
      ]
     },
     "execution_count": 5,
     "metadata": {},
     "output_type": "execute_result"
    }
   ],
   "source": [
    "mv_list[0]"
   ]
  },
  {
   "cell_type": "code",
   "execution_count": 6,
   "metadata": {},
   "outputs": [],
   "source": [
    "import pandas as pd\n",
    "import re"
   ]
  },
  {
   "cell_type": "code",
   "execution_count": 7,
   "metadata": {},
   "outputs": [],
   "source": [
    "def append_movie(mv):\n",
    "    title = mv.find(\"td\", {'class': 'titleColumn'}).find('a').text # getting Content inside the html tag\n",
    "    year = mv.find(\"td\", {'class': 'titleColumn'}).find('span').text[1:-1]\n",
    "    rating_soup = mv.find(\"td\", {'class': 'ratingColumn imdbRating'}).find('strong')\n",
    "    if rating_soup is None:\n",
    "        rating = no_of_user = 0\n",
    "    else:\n",
    "        rating = rating_soup.text\n",
    "        no_of_user = re.sub(r'.+(based on )(.+)( user ratings)', r'\\2', rating_soup['title'])\n",
    "        \n",
    "    return [title, year, rating, no_of_user]"
   ]
  },
  {
   "cell_type": "code",
   "execution_count": 8,
   "metadata": {},
   "outputs": [],
   "source": [
    "data = []\n",
    "for mv in mv_list:\n",
    "    data.append(append_movie(mv))"
   ]
  },
  {
   "cell_type": "code",
   "execution_count": 9,
   "metadata": {},
   "outputs": [
    {
     "data": {
      "text/html": [
       "<div>\n",
       "<style scoped>\n",
       "    .dataframe tbody tr th:only-of-type {\n",
       "        vertical-align: middle;\n",
       "    }\n",
       "\n",
       "    .dataframe tbody tr th {\n",
       "        vertical-align: top;\n",
       "    }\n",
       "\n",
       "    .dataframe thead th {\n",
       "        text-align: right;\n",
       "    }\n",
       "</style>\n",
       "<table border=\"1\" class=\"dataframe\">\n",
       "  <thead>\n",
       "    <tr style=\"text-align: right;\">\n",
       "      <th></th>\n",
       "      <th>Title</th>\n",
       "      <th>Year</th>\n",
       "      <th>Rating</th>\n",
       "      <th>Number of Users</th>\n",
       "    </tr>\n",
       "  </thead>\n",
       "  <tbody>\n",
       "    <tr>\n",
       "      <th>0</th>\n",
       "      <td>Lucifer</td>\n",
       "      <td>2016</td>\n",
       "      <td>8.2</td>\n",
       "      <td>207,111</td>\n",
       "    </tr>\n",
       "    <tr>\n",
       "      <th>1</th>\n",
       "      <td>The Umbrella Academy</td>\n",
       "      <td>2019</td>\n",
       "      <td>8.0</td>\n",
       "      <td>128,556</td>\n",
       "    </tr>\n",
       "    <tr>\n",
       "      <th>2</th>\n",
       "      <td>Lovecraft Country</td>\n",
       "      <td>2020</td>\n",
       "      <td>7.5</td>\n",
       "      <td>8,046</td>\n",
       "    </tr>\n",
       "    <tr>\n",
       "      <th>3</th>\n",
       "      <td>Yellowstone</td>\n",
       "      <td>2018</td>\n",
       "      <td>8.5</td>\n",
       "      <td>20,970</td>\n",
       "    </tr>\n",
       "    <tr>\n",
       "      <th>4</th>\n",
       "      <td>The Boys</td>\n",
       "      <td>2019</td>\n",
       "      <td>8.7</td>\n",
       "      <td>163,266</td>\n",
       "    </tr>\n",
       "    <tr>\n",
       "      <th>...</th>\n",
       "      <td>...</td>\n",
       "      <td>...</td>\n",
       "      <td>...</td>\n",
       "      <td>...</td>\n",
       "    </tr>\n",
       "    <tr>\n",
       "      <th>95</th>\n",
       "      <td>Gotham</td>\n",
       "      <td>2014</td>\n",
       "      <td>7.8</td>\n",
       "      <td>207,536</td>\n",
       "    </tr>\n",
       "    <tr>\n",
       "      <th>96</th>\n",
       "      <td>The Sinner</td>\n",
       "      <td>2017</td>\n",
       "      <td>7.9</td>\n",
       "      <td>80,636</td>\n",
       "    </tr>\n",
       "    <tr>\n",
       "      <th>97</th>\n",
       "      <td>The Haunting of Hill House</td>\n",
       "      <td>2018</td>\n",
       "      <td>8.7</td>\n",
       "      <td>153,030</td>\n",
       "    </tr>\n",
       "    <tr>\n",
       "      <th>98</th>\n",
       "      <td>Mad Men</td>\n",
       "      <td>2007</td>\n",
       "      <td>8.6</td>\n",
       "      <td>199,896</td>\n",
       "    </tr>\n",
       "    <tr>\n",
       "      <th>99</th>\n",
       "      <td>It's Always Sunny in Philadelphia</td>\n",
       "      <td>2005</td>\n",
       "      <td>8.8</td>\n",
       "      <td>184,683</td>\n",
       "    </tr>\n",
       "  </tbody>\n",
       "</table>\n",
       "<p>100 rows × 4 columns</p>\n",
       "</div>"
      ],
      "text/plain": [
       "                                Title  Year Rating Number of Users\n",
       "0                             Lucifer  2016    8.2         207,111\n",
       "1                The Umbrella Academy  2019    8.0         128,556\n",
       "2                   Lovecraft Country  2020    7.5           8,046\n",
       "3                         Yellowstone  2018    8.5          20,970\n",
       "4                            The Boys  2019    8.7         163,266\n",
       "..                                ...   ...    ...             ...\n",
       "95                             Gotham  2014    7.8         207,536\n",
       "96                         The Sinner  2017    7.9          80,636\n",
       "97         The Haunting of Hill House  2018    8.7         153,030\n",
       "98                            Mad Men  2007    8.6         199,896\n",
       "99  It's Always Sunny in Philadelphia  2005    8.8         184,683\n",
       "\n",
       "[100 rows x 4 columns]"
      ]
     },
     "execution_count": 9,
     "metadata": {},
     "output_type": "execute_result"
    }
   ],
   "source": [
    "df = pd.DataFrame(data, columns = ['Title', 'Year', 'Rating', 'Number of Users'])\n",
    "df"
   ]
  },
  {
   "cell_type": "code",
   "execution_count": 10,
   "metadata": {},
   "outputs": [],
   "source": [
    "df.to_csv ('100_most_popular_tv_show.csv', index=False)"
   ]
  }
 ],
 "metadata": {
  "kernelspec": {
   "display_name": "Python 3",
   "language": "python",
   "name": "python3"
  },
  "language_info": {
   "codemirror_mode": {
    "name": "ipython",
    "version": 3
   },
   "file_extension": ".py",
   "mimetype": "text/x-python",
   "name": "python",
   "nbconvert_exporter": "python",
   "pygments_lexer": "ipython3",
   "version": "3.8.2"
  }
 },
 "nbformat": 4,
 "nbformat_minor": 4
}
